{
  "nbformat": 4,
  "nbformat_minor": 0,
  "metadata": {
    "colab": {
      "provenance": [],
      "gpuType": "T4"
    },
    "kernelspec": {
      "name": "python3",
      "display_name": "Python 3"
    },
    "language_info": {
      "name": "python"
    },
    "accelerator": "GPU"
  },
  "cells": [
    {
      "cell_type": "markdown",
      "source": [
        "#Aula 10 - Supercomputação 24.2\n",
        "###Alexandre Santarossa"
      ],
      "metadata": {
        "id": "tsmAnEVx3lfz"
      }
    },
    {
      "cell_type": "code",
      "execution_count": 1,
      "metadata": {
        "colab": {
          "base_uri": "https://localhost:8080/"
        },
        "id": "cBkxg86WTRCb",
        "outputId": "67a8b5d2-317d-4028-e52c-d1181711572a"
      },
      "outputs": [
        {
          "output_type": "stream",
          "name": "stdout",
          "text": [
            "Tue Sep 17 21:12:06 2024       \n",
            "+---------------------------------------------------------------------------------------+\n",
            "| NVIDIA-SMI 535.104.05             Driver Version: 535.104.05   CUDA Version: 12.2     |\n",
            "|-----------------------------------------+----------------------+----------------------+\n",
            "| GPU  Name                 Persistence-M | Bus-Id        Disp.A | Volatile Uncorr. ECC |\n",
            "| Fan  Temp   Perf          Pwr:Usage/Cap |         Memory-Usage | GPU-Util  Compute M. |\n",
            "|                                         |                      |               MIG M. |\n",
            "|=========================================+======================+======================|\n",
            "|   0  Tesla T4                       Off | 00000000:00:04.0 Off |                    0 |\n",
            "| N/A   64C    P8              11W /  70W |      0MiB / 15360MiB |      0%      Default |\n",
            "|                                         |                      |                  N/A |\n",
            "+-----------------------------------------+----------------------+----------------------+\n",
            "                                                                                         \n",
            "+---------------------------------------------------------------------------------------+\n",
            "| Processes:                                                                            |\n",
            "|  GPU   GI   CI        PID   Type   Process name                            GPU Memory |\n",
            "|        ID   ID                                                             Usage      |\n",
            "|=======================================================================================|\n",
            "|  No running processes found                                                           |\n",
            "+---------------------------------------------------------------------------------------+\n"
          ]
        }
      ],
      "source": [
        "!nvidia-smi"
      ]
    },
    {
      "cell_type": "code",
      "source": [
        "%%writefile exemplo1.cu\n",
        "#include <thrust/device_vector.h> // Inclui a biblioteca para vetores na GPU (device)\n",
        "#include <thrust/host_vector.h>   // Inclui a biblioteca para vetores na CPU (host)\n",
        "#include <iostream>               // Biblioteca padrão para entrada e saída de dados\n",
        "\n",
        "int main() {\n",
        "    // Cria um vetor na CPU (host) com 5 elementos, todos inicializados com 0\n",
        "    thrust::host_vector<double> host(5, 0);\n",
        "    host[4] = 35; // Altera o último elemento do vetor para 35\n",
        "\n",
        "    /* Os dados do vetor 'host' são copiados para a GPU,\n",
        "       criando um vetor equivalente na GPU (device) */\n",
        "    thrust::device_vector<double> dev(host);\n",
        "\n",
        "    /* Altera o vetor na CPU, mas não afeta o vetor na GPU,\n",
        "       pois a cópia já foi feita anteriormente */\n",
        "    host[2] = 12; // Altera o terceiro elemento do vetor na CPU para 12\n",
        "\n",
        "    // Exibe os elementos do vetor na CPU\n",
        "    printf(\"Host vector: \");\n",
        "    for (auto i = host.begin(); i != host.end(); i++) {\n",
        "        std::cout << *i << \" \"; // Acesso rápido aos elementos na CPU\n",
        "    }\n",
        "    printf(\"\\n\");\n",
        "\n",
        "    // Exibe os elementos do vetor na GPU\n",
        "    printf(\"Device vector: \");\n",
        "    for (auto i = dev.begin(); i != dev.end(); i++) {\n",
        "        std::cout << *i << \" \"; // Acesso aos elementos na GPU é lento, pois os dados estão na GPU\n",
        "    }\n",
        "    printf(\"\\n\");\n",
        "}"
      ],
      "metadata": {
        "colab": {
          "base_uri": "https://localhost:8080/"
        },
        "id": "Yn3Iba_ZUWzA",
        "outputId": "85751df1-7204-4cca-cb9e-bad3220eb9ed"
      },
      "execution_count": null,
      "outputs": [
        {
          "output_type": "stream",
          "name": "stdout",
          "text": [
            "Writing exemplo1.cu\n"
          ]
        }
      ]
    },
    {
      "cell_type": "code",
      "source": [
        "!nvcc -arch=sm_75 -std=c++14 exemplo1.cu -o exemplo1\n"
      ],
      "metadata": {
        "id": "RMcnrC1uUd2H"
      },
      "execution_count": null,
      "outputs": []
    },
    {
      "cell_type": "code",
      "source": [
        "!./exemplo1\n"
      ],
      "metadata": {
        "colab": {
          "base_uri": "https://localhost:8080/"
        },
        "id": "Q5vFMjcLUf7J",
        "outputId": "fe1588c6-43e4-4e04-f2ae-e2f3130c973c"
      },
      "execution_count": null,
      "outputs": [
        {
          "output_type": "stream",
          "name": "stdout",
          "text": [
            "Host vector: 0 0 12 0 35 \n",
            "Device vector: 0 0 0 0 35 \n"
          ]
        }
      ]
    },
    {
      "cell_type": "code",
      "source": [
        "%%writefile exemplo2.cu\n",
        "#include <thrust/device_vector.h>              // Inclui a biblioteca para vetores na GPU\n",
        "#include <thrust/host_vector.h>                // Inclui a biblioteca para vetores na CPU\n",
        "#include <thrust/sequence.h>                   // Inclui a função para preencher vetores com uma sequência de números\n",
        "#include <thrust/functional.h>                 // Inclui operações matemáticas padrão, como soma e multiplicação\n",
        "#include <thrust/transform.h>                  // Inclui a função para transformar vetores com operações ponto a ponto\n",
        "#include <thrust/iterator/constant_iterator.h> // Inclui o iterador constante necessário\n",
        "#include <iostream>\n",
        "\n",
        "int main() {\n",
        "    // Cria um vetor na GPU (device_vector) com 10 elementos, todos inicializados com 0\n",
        "    thrust::device_vector<double> V1(10, 0);\n",
        "    // Preenche V1 com uma sequência de números: {0, 1, 2, ..., 9}\n",
        "    thrust::sequence(V1.begin(), V1.end());\n",
        "\n",
        "    // Cria um vetor na GPU com 5 elementos, todos inicializados com 0\n",
        "    thrust::device_vector<double> V2(5, 0);\n",
        "    // Preenche os dois primeiros elementos de V2 com 5.5: {5.5, 5.5, 0, 0, 0}\n",
        "    thrust::fill(V2.begin(), V2.begin() + 2, 5.5);\n",
        "    // Preenche os elementos restantes de V2 com 10: {5.5, 5.5, 10, 10, 10}\n",
        "    thrust::fill(V2.begin() + 2, V2.end(), 10);\n",
        "\n",
        "    // Cria dois vetores na GPU com 10 elementos, para armazenar resultados das operações\n",
        "    thrust::device_vector<double> V3(10); // Vetor para armazenar o resultado da soma\n",
        "    thrust::device_vector<double> V4(10); // Vetor para armazenar o resultado da multiplicação\n",
        "\n",
        "    // Aplica a operação de soma elemento por elemento entre V1 e V2 e armazena o resultado em V3\n",
        "    // Como V2 tem menos elementos, o restante de V1 é somado com zeros (elemento padrão).\n",
        "    // Resultado: V3 = {0+5.5, 1+5.5, 2+10, 3+10, 4+10, 5+0, ..., 9+0}\n",
        "    thrust::transform(V1.begin(), V1.end(), V2.begin(), V3.begin(), thrust::plus<double>());\n",
        "\n",
        "    // Aplica multiplicação de V1 com o valor constante 0.5\n",
        "    // e armazenaria o resultado em V4.\n",
        "    thrust::transform(V1.begin(), V1.end(), thrust::constant_iterator<double>(0.5), V4.begin(), thrust::multiplies<double>());\n",
        "\n",
        "    // Imprime os elementos de V1\n",
        "    printf(\"V1: \");\n",
        "    for (thrust::device_vector<double>::iterator i = V1.begin(); i != V1.end(); i++) {\n",
        "        std::cout << *i << \" \"; // Acessa e imprime cada elemento do vetor V1\n",
        "    }\n",
        "    printf(\"\\n\");\n",
        "\n",
        "    // Imprime os elementos de V2\n",
        "    printf(\"V2: \");\n",
        "    for (thrust::device_vector<double>::iterator i = V2.begin(); i != V2.end(); i++) {\n",
        "        std::cout << *i << \" \"; // Acessa e imprime cada elemento do vetor V2\n",
        "    }\n",
        "    printf(\"\\n\");\n",
        "\n",
        "    // Imprime os elementos de V3\n",
        "    printf(\"V3: \");\n",
        "    for (thrust::device_vector<double>::iterator i = V3.begin(); i != V3.end(); i++) {\n",
        "        std::cout << *i << \" \"; // Acessa e imprime cada elemento do vetor V3\n",
        "    }\n",
        "    printf(\"\\n\");\n",
        "\n",
        "    // Imprime o vetor V4, que foi criado mas não utilizado.\n",
        "     printf(\"V4: \");\n",
        "    for (thrust::device_vector<double>::iterator i = V4.begin(); i != V4.end(); i++) {\n",
        "         std::cout << *i << \" \";\n",
        "    }\n",
        "    printf(\"\\n\");\n",
        "\n",
        "    return 0;\n",
        "}"
      ],
      "metadata": {
        "colab": {
          "base_uri": "https://localhost:8080/"
        },
        "id": "4jx7qJxXUlPe",
        "outputId": "2a349cc5-bebd-465b-cafc-c1e057adf7d0"
      },
      "execution_count": null,
      "outputs": [
        {
          "output_type": "stream",
          "name": "stdout",
          "text": [
            "Writing exemplo2.cu\n"
          ]
        }
      ]
    },
    {
      "cell_type": "code",
      "source": [
        "!nvcc -arch=sm_75 -std=c++14 exemplo2.cu -o exemplo2"
      ],
      "metadata": {
        "id": "PD-s0HWFVIaw"
      },
      "execution_count": null,
      "outputs": []
    },
    {
      "cell_type": "code",
      "source": [
        "!./exemplo2"
      ],
      "metadata": {
        "colab": {
          "base_uri": "https://localhost:8080/"
        },
        "id": "V0sxvulUVJuZ",
        "outputId": "2cac13df-ea6a-4f01-e843-d721940dbb36"
      },
      "execution_count": null,
      "outputs": [
        {
          "output_type": "stream",
          "name": "stdout",
          "text": [
            "V1: 0 1 2 3 4 5 6 7 8 9 \n",
            "V2: 5.5 5.5 10 10 10 \n",
            "V3: 5.5 6.5 12 13 14 5 6 7 8 9 \n",
            "V4: 0 0.5 1 1.5 2 2.5 3 3.5 4 4.5 \n"
          ]
        }
      ]
    },
    {
      "cell_type": "code",
      "source": [
        "%%writefile stocks.cu\n",
        "#include <thrust/device_vector.h>   // Inclui a biblioteca Thrust para vetores na GPU\n",
        "#include <thrust/host_vector.h>     // Inclui a biblioteca Thrust para vetores na CPU\n",
        "#include <iostream>                 // Biblioteca padrão para entrada e saída de dados\n",
        "#include <chrono>                   // Biblioteca para medir o tempo de execução do código\n",
        "using namespace std;\n",
        "\n",
        "int main() {\n",
        "    int n = 2518;                   // Define o tamanho do vetor (2518 elementos)\n",
        "    double value = 0.0;             // Variável auxiliar para armazenar o valor lido da entrada\n",
        "    std::chrono::duration<double> diff; // Variável para armazenar a diferença de tempo calculada\n",
        "\n",
        "    // Marca o início da medição do tempo de leitura dos dados\n",
        "    auto leitura_i = std::chrono::steady_clock::now();\n",
        "\n",
        "    // Cria um vetor na CPU (host_vector) com n elementos, todos inicializados com 0\n",
        "    thrust::host_vector<double> host(n, 0);\n",
        "\n",
        "    // Loop para ler n valores da entrada padrão e armazená-los no vetor host\n",
        "    for (int i = 0; i < n; i++) {\n",
        "        cin >> value;              // Lê um valor da entrada padrão\n",
        "        host[i] = value;           // Armazena o valor lido no vetor host\n",
        "    }\n",
        "\n",
        "    // Marca o fim da medição do tempo de leitura dos dados\n",
        "    auto leitura_f = std::chrono::steady_clock::now();\n",
        "\n",
        "    // Calcula o tempo gasto na leitura dos dados\n",
        "    diff = leitura_f - leitura_i;\n",
        "\n",
        "    // Exibe o tempo de leitura em segundos\n",
        "    cout << \"Tempo de LEITURA (em segundos)  \" << diff.count() << endl;\n",
        "\n",
        "    // Marca o início da medição do tempo de cópia dos dados da CPU para a GPU\n",
        "    auto copia_i = std::chrono::steady_clock::now();\n",
        "\n",
        "    // Cria um vetor na GPU (device_vector) copiando os dados do vetor host da CPU\n",
        "    thrust::device_vector<double> dev(host);\n",
        "\n",
        "    // Marca o fim da medição do tempo de cópia dos dados\n",
        "    auto copia_f = std::chrono::steady_clock::now();\n",
        "\n",
        "    // Calcula o tempo gasto na cópia dos dados para a GPU\n",
        "    diff = copia_f - copia_i;\n",
        "\n",
        "    // Exibe o tempo de cópia em segundos\n",
        "    cout << \"Tempo de CÓPIA (em segundos)  \" << diff.count() << endl;\n",
        "\n",
        "    return 0;\n",
        "}"
      ],
      "metadata": {
        "colab": {
          "base_uri": "https://localhost:8080/"
        },
        "id": "3zw3DvbLVLzp",
        "outputId": "42f48bfb-f51d-4d0e-8c51-4f02ab2d0c07"
      },
      "execution_count": null,
      "outputs": [
        {
          "output_type": "stream",
          "name": "stdout",
          "text": [
            "Writing stocks.cu\n"
          ]
        }
      ]
    },
    {
      "cell_type": "code",
      "source": [
        "!nvcc -arch=sm_70 -std=c++14 stocks.cu -o stocks"
      ],
      "metadata": {
        "id": "-gL_-ZIbVPL_"
      },
      "execution_count": null,
      "outputs": []
    },
    {
      "cell_type": "code",
      "source": [
        "!./stocks < stocks-google.txt"
      ],
      "metadata": {
        "colab": {
          "base_uri": "https://localhost:8080/"
        },
        "id": "aOlCWSI-VRnN",
        "outputId": "41df371f-ccb6-424b-f829-44d25805a89a"
      },
      "execution_count": null,
      "outputs": [
        {
          "output_type": "stream",
          "name": "stdout",
          "text": [
            "Tempo de LEITURA (em segundos)  0.00246407\n",
            "Tempo de CÓPIA (em segundos)  0.105706\n"
          ]
        }
      ]
    },
    {
      "cell_type": "code",
      "source": [
        "%%writefile exercicio1.cu\n",
        "#include <thrust/host_vector.h>\n",
        "#include <thrust/device_vector.h>\n",
        "#include <iostream>\n",
        "#include <fstream>\n",
        "#include <chrono>\n",
        "\n",
        "int main() {\n",
        "    // Abra o arquivo de entrada\n",
        "    std::ifstream infile(\"stocks-google.txt\");\n",
        "    if (!infile) {\n",
        "        std::cerr << \"Não foi possível abrir o arquivo stocks-google.txt\" << std::endl;\n",
        "        return 1;\n",
        "    }\n",
        "\n",
        "    // Vetor temporário para armazenar os dados lidos\n",
        "    std::vector<double> temp_data;\n",
        "    double value;\n",
        "\n",
        "    // Leia os dados do arquivo e armazene no vetor temporário\n",
        "    while (infile >> value) {\n",
        "        temp_data.push_back(value);\n",
        "    }\n",
        "\n",
        "    infile.close();\n",
        "\n",
        "    // Crie um host_vector a partir dos dados lidos\n",
        "    thrust::host_vector<double> host_data(temp_data.begin(), temp_data.end());\n",
        "\n",
        "    // Medir o tempo de cópia dos dados para o device_vector\n",
        "    auto start = std::chrono::steady_clock::now();\n",
        "\n",
        "    // Crie um device_vector e copie os dados do host_vector\n",
        "    thrust::device_vector<double> device_data = host_data;\n",
        "\n",
        "    auto end = std::chrono::steady_clock::now();\n",
        "\n",
        "    // Calcule o tempo de cópia\n",
        "    std::chrono::duration<double> elapsed_seconds = end - start;\n",
        "    std::cout << \"Tempo de alocação e cópia para a GPU: \" << elapsed_seconds.count() << \" segundos\" << std::endl;\n",
        "\n",
        "    return 0;\n",
        "}"
      ],
      "metadata": {
        "id": "nzcq4y6fVitq",
        "colab": {
          "base_uri": "https://localhost:8080/"
        },
        "outputId": "95ca6203-4138-4398-9943-d93e7f8e5f44"
      },
      "execution_count": 2,
      "outputs": [
        {
          "output_type": "stream",
          "name": "stdout",
          "text": [
            "Writing exercicio1.cu\n"
          ]
        }
      ]
    },
    {
      "cell_type": "code",
      "source": [
        "!nvcc -arch=sm_75 -std=c++14 exercicio1.cu -o exercicio1"
      ],
      "metadata": {
        "id": "mYww0Dqj1k0T"
      },
      "execution_count": 3,
      "outputs": []
    },
    {
      "cell_type": "code",
      "source": [
        "!./exercicio1"
      ],
      "metadata": {
        "colab": {
          "base_uri": "https://localhost:8080/"
        },
        "id": "Ly4C7PEc1mvz",
        "outputId": "0c412432-b83e-4a3b-d8d9-33e3f9186237"
      },
      "execution_count": 9,
      "outputs": [
        {
          "output_type": "stream",
          "name": "stdout",
          "text": [
            "Tempo de alocação e cópia para a GPU: 0.302275 segundos\n"
          ]
        }
      ]
    },
    {
      "cell_type": "code",
      "source": [
        "%%writefile exercicio2.cu\n",
        "#include <thrust/host_vector.h>\n",
        "#include <thrust/device_vector.h>\n",
        "#include <thrust/reduce.h>\n",
        "#include <thrust/extrema.h>\n",
        "#include <iostream>\n",
        "#include <fstream>\n",
        "\n",
        "int main() {\n",
        "    // Abra o arquivo de entrada\n",
        "    std::ifstream infile(\"stocks-google.txt\");\n",
        "    if (!infile) {\n",
        "        std::cerr << \"Não foi possível abrir o arquivo stocks-google.txt\" << std::endl;\n",
        "        return 1;\n",
        "    }\n",
        "\n",
        "    // Vetor temporário para armazenar os dados lidos\n",
        "    std::vector<double> temp_data;\n",
        "    double value;\n",
        "\n",
        "    // Leia os dados do arquivo e armazene no vetor temporário\n",
        "    while (infile >> value) {\n",
        "        temp_data.push_back(value);\n",
        "    }\n",
        "\n",
        "    infile.close();\n",
        "\n",
        "    // Crie um host_vector a partir dos dados lidos\n",
        "    thrust::host_vector<double> host_data(temp_data.begin(), temp_data.end());\n",
        "\n",
        "    // Crie um device_vector e copie os dados do host_vector\n",
        "    thrust::device_vector<double> device_data = host_data;\n",
        "\n",
        "    // Total de elementos\n",
        "    size_t N = device_data.size();\n",
        "\n",
        "    // Cálculo da média total\n",
        "    double sum_total = thrust::reduce(device_data.begin(), device_data.end(), 0.0, thrust::plus<double>());\n",
        "    double average_total = sum_total / N;\n",
        "\n",
        "    std::cout << \"Preço médio das ações do Google nos últimos 10 anos: \" << average_total << std::endl;\n",
        "\n",
        "    // Cálculo da média dos últimos 365 dias\n",
        "    size_t last_year_days = 365;\n",
        "\n",
        "    if (N >= last_year_days) {\n",
        "        auto start_iter = device_data.end() - last_year_days;\n",
        "        auto end_iter = device_data.end();\n",
        "\n",
        "        double sum_last_year = thrust::reduce(start_iter, end_iter, 0.0, thrust::plus<double>());\n",
        "        double average_last_year = sum_last_year / last_year_days;\n",
        "\n",
        "        std::cout << \"Preço médio das ações nos últimos 365 dias: \" << average_last_year << std::endl;\n",
        "\n",
        "        // Encontrar o maior e o menor preço no período total\n",
        "        auto minmax_total = thrust::minmax_element(device_data.begin(), device_data.end());\n",
        "        double min_price_total = *minmax_total.first;\n",
        "        double max_price_total = *minmax_total.second;\n",
        "\n",
        "        std::cout << \"Menor preço no período total: \" << min_price_total << std::endl;\n",
        "        std::cout << \"Maior preço no período total: \" << max_price_total << std::endl;\n",
        "\n",
        "        // Encontrar o maior e o menor preço nos últimos 365 dias\n",
        "        auto minmax_last_year = thrust::minmax_element(start_iter, end_iter);\n",
        "        double min_price_last_year = *minmax_last_year.first;\n",
        "        double max_price_last_year = *minmax_last_year.second;\n",
        "\n",
        "        std::cout << \"Menor preço nos últimos 365 dias: \" << min_price_last_year << std::endl;\n",
        "        std::cout << \"Maior preço nos últimos 365 dias: \" << max_price_last_year << std::endl;\n",
        "    } else {\n",
        "        std::cout << \"Dados insuficientes para os últimos 365 dias.\" << std::endl;\n",
        "    }\n",
        "\n",
        "    return 0;\n",
        "}"
      ],
      "metadata": {
        "colab": {
          "base_uri": "https://localhost:8080/"
        },
        "id": "UnhhBsvD1w9o",
        "outputId": "5cec4ad7-3573-4e5b-8e38-eab88b3ccbbb"
      },
      "execution_count": 10,
      "outputs": [
        {
          "output_type": "stream",
          "name": "stdout",
          "text": [
            "Writing exercicio2.cu\n"
          ]
        }
      ]
    },
    {
      "cell_type": "code",
      "source": [
        "!nvcc -arch=sm_75 -std=c++14 exercicio2.cu -o exercicio2"
      ],
      "metadata": {
        "id": "heJzgWug2DGv"
      },
      "execution_count": 11,
      "outputs": []
    },
    {
      "cell_type": "code",
      "source": [
        "!./exercicio2"
      ],
      "metadata": {
        "colab": {
          "base_uri": "https://localhost:8080/"
        },
        "id": "897AfN1W2Gpy",
        "outputId": "f903e3e2-ed94-45be-d0fc-06690373af0b"
      },
      "execution_count": 12,
      "outputs": [
        {
          "output_type": "stream",
          "name": "stdout",
          "text": [
            "Preço médio das ações do Google nos últimos 10 anos: 1580.08\n",
            "Preço médio das ações nos últimos 365 dias: 1615.81\n",
            "Menor preço no período total: 1015.24\n",
            "Maior preço no período total: 2200\n",
            "Menor preço nos últimos 365 dias: 1060.5\n",
            "Maior preço nos últimos 365 dias: 2200\n"
          ]
        }
      ]
    },
    {
      "cell_type": "code",
      "source": [
        "%%writefile exercicio3.cu\n",
        "#include <thrust/host_vector.h>\n",
        "#include <thrust/device_vector.h>\n",
        "#include <thrust/transform.h>\n",
        "#include <thrust/reduce.h>\n",
        "#include <iostream>\n",
        "#include <fstream>\n",
        "#include <sstream>\n",
        "\n",
        "int main() {\n",
        "    // Abra o arquivo de entrada\n",
        "    std::ifstream infile(\"stocks2.txt\");\n",
        "    if (!infile) {\n",
        "        std::cerr << \"Não foi possível abrir o arquivo stocks2.txt\" << std::endl;\n",
        "        return 1;\n",
        "    }\n",
        "\n",
        "    // Vetores temporários para armazenar os dados lidos\n",
        "    std::vector<double> temp_data_AAPL;\n",
        "    std::vector<double> temp_data_MSFT;\n",
        "    std::string line;\n",
        "\n",
        "    // Leia os dados do arquivo e armazene nos vetores temporários\n",
        "    while (std::getline(infile, line)) {\n",
        "        std::stringstream ss(line);\n",
        "        std::string value_str;\n",
        "        double value_AAPL, value_MSFT;\n",
        "\n",
        "        // Leia o primeiro valor (AAPL)\n",
        "        if (std::getline(ss, value_str, ',')) {\n",
        "            value_AAPL = std::stod(value_str);\n",
        "        } else {\n",
        "            continue; // Linha inválida\n",
        "        }\n",
        "\n",
        "        // Leia o segundo valor (MSFT)\n",
        "        if (std::getline(ss, value_str, ',')) {\n",
        "            value_MSFT = std::stod(value_str);\n",
        "        } else {\n",
        "            continue; // Linha inválida\n",
        "        }\n",
        "\n",
        "        temp_data_AAPL.push_back(value_AAPL);\n",
        "        temp_data_MSFT.push_back(value_MSFT);\n",
        "    }\n",
        "\n",
        "    infile.close();\n",
        "\n",
        "    // Verificar se os tamanhos dos vetores são iguais\n",
        "    if (temp_data_AAPL.size() != temp_data_MSFT.size()) {\n",
        "        std::cerr << \"Os vetores de dados têm tamanhos diferentes!\" << std::endl;\n",
        "        return 1;\n",
        "    }\n",
        "\n",
        "    size_t N = temp_data_AAPL.size();\n",
        "\n",
        "    // Crie host_vectors a partir dos dados lidos\n",
        "    thrust::host_vector<double> host_data_AAPL(temp_data_AAPL.begin(), temp_data_AAPL.end());\n",
        "    thrust::host_vector<double> host_data_MSFT(temp_data_MSFT.begin(), temp_data_MSFT.end());\n",
        "\n",
        "    // Crie device_vectors e copie os dados do host_vector\n",
        "    thrust::device_vector<double> device_data_AAPL = host_data_AAPL;\n",
        "    thrust::device_vector<double> device_data_MSFT = host_data_MSFT;\n",
        "\n",
        "    // Criar um device_vector para armazenar as diferenças\n",
        "    thrust::device_vector<double> device_diff(N);\n",
        "\n",
        "    // Calcular a diferença ponto a ponto entre os dois vetores\n",
        "    thrust::transform(device_data_AAPL.begin(), device_data_AAPL.end(),\n",
        "                      device_data_MSFT.begin(), device_diff.begin(),\n",
        "                      thrust::minus<double>());\n",
        "\n",
        "    // Calcular a média das diferenças\n",
        "    double sum_diff = thrust::reduce(device_diff.begin(), device_diff.end(), 0.0, thrust::plus<double>());\n",
        "    double average_diff = sum_diff / N;\n",
        "\n",
        "    std::cout << \"A média das diferenças entre os preços das ações das empresas Apple e Microsoft é de \" << average_diff << std::endl;\n",
        "\n",
        "    if (average_diff > 0) {\n",
        "        std::cout << \"A Apple teve um preço maior.\" << std::endl;\n",
        "    } else if (average_diff < 0) {\n",
        "        std::cout << \"A Microsoft teve um preço maior.\" << std::endl;\n",
        "    } else {\n",
        "        std::cout << \"As duas empresas tiveram preços iguais.\" << std::endl;\n",
        "    }\n",
        "\n",
        "    return 0;\n",
        "}"
      ],
      "metadata": {
        "colab": {
          "base_uri": "https://localhost:8080/"
        },
        "id": "60g7gCQ_2M9p",
        "outputId": "139fad1a-f632-406a-e1d4-4d2e8e36fbb3"
      },
      "execution_count": 20,
      "outputs": [
        {
          "output_type": "stream",
          "name": "stdout",
          "text": [
            "Overwriting exercicio3.cu\n"
          ]
        }
      ]
    },
    {
      "cell_type": "code",
      "source": [
        "!nvcc -arch=sm_75 -std=c++14 exercicio3.cu -o exercicio3"
      ],
      "metadata": {
        "id": "3pRt9mIs2xbL"
      },
      "execution_count": 21,
      "outputs": []
    },
    {
      "cell_type": "code",
      "source": [
        "!./exercicio3"
      ],
      "metadata": {
        "colab": {
          "base_uri": "https://localhost:8080/"
        },
        "id": "ymac_Uyf25I8",
        "outputId": "13116b8e-4142-4058-e790-44346b71051b"
      },
      "execution_count": 22,
      "outputs": [
        {
          "output_type": "stream",
          "name": "stdout",
          "text": [
            "A média das diferenças entre os preços das ações das empresas Apple e Microsoft é de -265.232\n",
            "A Microsoft teve um preço maior.\n"
          ]
        }
      ]
    },
    {
      "cell_type": "code",
      "source": [],
      "metadata": {
        "id": "CMmN_A9G3CuC"
      },
      "execution_count": null,
      "outputs": []
    }
  ]
}