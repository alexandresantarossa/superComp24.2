{
  "nbformat": 4,
  "nbformat_minor": 0,
  "metadata": {
    "colab": {
      "provenance": [],
      "gpuType": "T4"
    },
    "kernelspec": {
      "name": "python3",
      "display_name": "Python 3"
    },
    "language_info": {
      "name": "python"
    },
    "accelerator": "GPU"
  },
  "cells": [
    {
      "cell_type": "code",
      "execution_count": 3,
      "metadata": {
        "colab": {
          "base_uri": "https://localhost:8080/"
        },
        "id": "MbGiauUtxJwy",
        "outputId": "c484d0e8-3a73-4808-e826-c849216e5216"
      },
      "outputs": [
        {
          "output_type": "stream",
          "name": "stdout",
          "text": [
            "Writing saxpy_functor.cu\n"
          ]
        }
      ],
      "source": [
        "%%writefile saxpy_functor.cu\n",
        "#include <thrust/device_vector.h>\n",
        "#include <thrust/transform.h>\n",
        "#include <thrust/random.h>\n",
        "#include <iostream>\n",
        "\n",
        "struct saxpy\n",
        "{\n",
        "    int a;\n",
        "    saxpy(int a_) : a(a_) {};  // Construtor que inicializa a constante 'a'\n",
        "\n",
        "    __host__ __device__\n",
        "    double operator()(const int& x, const int& y) const {\n",
        "        return a * x + y;  // Operação que será aplicada a cada elemento de x e y\n",
        "    }\n",
        "};\n",
        "\n",
        "int main() {\n",
        "    const int N = 1000;  // Tamanho dos vetores\n",
        "    thrust::device_vector<int> d_a(N);\n",
        "    thrust::device_vector<int> d_b(N);\n",
        "    thrust::device_vector<int> d_c(N);\n",
        "\n",
        "    // Inicializando vetores aleatórios\n",
        "    thrust::default_random_engine rng;\n",
        "    thrust::uniform_int_distribution<int> dist(0, 100);\n",
        "\n",
        "    for (int i = 0; i < N; ++i) {\n",
        "        d_a[i] = dist(rng);\n",
        "        d_b[i] = dist(rng);\n",
        "    }\n",
        "\n",
        "    int scalar = 5;  // Constante a para o cálculo Saxpy\n",
        "    thrust::transform(d_a.begin(), d_a.end(), d_b.begin(), d_c.begin(), saxpy(scalar));\n",
        "\n",
        "    // Exibir o resultado\n",
        "    for (int i = 0; i < 10; ++i) {\n",
        "        std::cout << \"Resultado \" << i << \": \" << d_c[i] << std::endl;\n",
        "    }\n",
        "\n",
        "    return 0;\n",
        "}"
      ]
    },
    {
      "cell_type": "code",
      "source": [
        "!nvcc -arch=sm_75 -std=c++14 saxpy_functor.cu -o saxpy_functor"
      ],
      "metadata": {
        "id": "TNvoUAqLyytJ"
      },
      "execution_count": 5,
      "outputs": []
    },
    {
      "cell_type": "code",
      "source": [
        "!./saxpy_functor"
      ],
      "metadata": {
        "colab": {
          "base_uri": "https://localhost:8080/"
        },
        "id": "DipZBUUtyz0c",
        "outputId": "b578e9d7-bbc7-44f2-e942-77a743605206"
      },
      "execution_count": 6,
      "outputs": [
        {
          "output_type": "stream",
          "name": "stdout",
          "text": [
            "Resultado 0: 8\n",
            "Resultado 1: 390\n",
            "Resultado 2: 504\n",
            "Resultado 3: 300\n",
            "Resultado 4: 205\n",
            "Resultado 5: 101\n",
            "Resultado 6: 371\n",
            "Resultado 7: 346\n",
            "Resultado 8: 540\n",
            "Resultado 9: 462\n"
          ]
        }
      ]
    },
    {
      "cell_type": "code",
      "source": [
        "%%writefile magnitude_reduce.cu\n",
        "#include <thrust/device_vector.h>\n",
        "#include <thrust/transform_reduce.h>\n",
        "#include <thrust/host_vector.h>\n",
        "#include <thrust/copy.h>\n",
        "#include <cmath>\n",
        "#include <iostream>\n",
        "\n",
        "struct square\n",
        "{\n",
        "    __host__ __device__\n",
        "    float operator()(const float& x) const {\n",
        "        return x * x;\n",
        "    }\n",
        "};\n",
        "\n",
        "float magnitude(const thrust::device_vector<float>& v) {\n",
        "    float sum_of_squares = thrust::transform_reduce(v.begin(), v.end(), square(), 0.0f, thrust::plus<float>());\n",
        "    return std::sqrt(sum_of_squares);\n",
        "}\n",
        "\n",
        "int main() {\n",
        "    const int N = 1000;\n",
        "    thrust::host_vector<float> h_v(N);\n",
        "\n",
        "    // Inicializando o vetor com valores aleatórios\n",
        "    for (int i = 0; i < N; ++i) {\n",
        "        h_v[i] = static_cast<float>(rand()) / (RAND_MAX / 100);  // Usando rand() para gerar valores entre 0 e 100\n",
        "    }\n",
        "\n",
        "    // Copiando para a GPU\n",
        "    thrust::device_vector<float> d_v = h_v;\n",
        "\n",
        "    float mag = magnitude(d_v);\n",
        "    std::cout << \"Magnitude do vetor: \" << mag << std::endl;\n",
        "\n",
        "    return 0;\n",
        "}"
      ],
      "metadata": {
        "colab": {
          "base_uri": "https://localhost:8080/"
        },
        "id": "p-PO2BLAzhK_",
        "outputId": "a4fc996c-daf9-473b-d2e2-3c8556dbadb0"
      },
      "execution_count": 11,
      "outputs": [
        {
          "output_type": "stream",
          "name": "stdout",
          "text": [
            "Overwriting magnitude_reduce.cu\n"
          ]
        }
      ]
    },
    {
      "cell_type": "code",
      "source": [
        "!nvcc -arch=sm_75 -std=c++14 magnitude_reduce.cu -o magnitude_reduce"
      ],
      "metadata": {
        "id": "cmApiiD3ziYB"
      },
      "execution_count": 12,
      "outputs": []
    },
    {
      "cell_type": "code",
      "source": [
        "!./magnitude_reduce"
      ],
      "metadata": {
        "colab": {
          "base_uri": "https://localhost:8080/"
        },
        "id": "d24XPRH_zjlg",
        "outputId": "eb094aa2-7fa7-4d18-8fbc-2db0e82bf387"
      },
      "execution_count": 13,
      "outputs": [
        {
          "output_type": "stream",
          "name": "stdout",
          "text": [
            "Magnitude do vetor: 1840.52\n"
          ]
        }
      ]
    },
    {
      "cell_type": "code",
      "source": [
        "%%writefile variance_fusion_kernel.cu\n",
        "#include <thrust/device_vector.h>\n",
        "#include <thrust/transform_reduce.h>\n",
        "#include <thrust/host_vector.h>\n",
        "#include <thrust/copy.h>\n",
        "#include <iostream>\n",
        "#include <cmath>\n",
        "\n",
        "struct variance_op\n",
        "{\n",
        "    float mean;\n",
        "    variance_op(float mean_) : mean(mean_) {}\n",
        "\n",
        "    __host__ __device__\n",
        "    float operator()(const float& x) const {\n",
        "        float diff = x - mean;\n",
        "        return diff * diff;\n",
        "    }\n",
        "};\n",
        "\n",
        "float calculate_mean(const thrust::device_vector<float>& d_vec) {\n",
        "    float sum = thrust::reduce(d_vec.begin(), d_vec.end(), 0.0f, thrust::plus<float>());\n",
        "    return sum / d_vec.size();\n",
        "}\n",
        "\n",
        "float calculate_variance(const thrust::device_vector<float>& d_vec, float mean) {\n",
        "    return thrust::transform_reduce(d_vec.begin(), d_vec.end(), variance_op(mean), 0.0f, thrust::plus<float>()) / d_vec.size();\n",
        "}\n",
        "\n",
        "int main() {\n",
        "    const int N = 1000;\n",
        "    thrust::host_vector<float> h_vec(N);\n",
        "\n",
        "    // Inicializando o vetor com valores aleatórios\n",
        "    for (int i = 0; i < N; ++i) {\n",
        "        h_vec[i] = static_cast<float>(rand()) / (RAND_MAX / 100);  // Usando rand() para gerar valores entre 0 e 100\n",
        "    }\n",
        "\n",
        "    // Copiando para a GPU\n",
        "    thrust::device_vector<float> d_vec = h_vec;\n",
        "\n",
        "    float mean = calculate_mean(d_vec);\n",
        "    float variance = calculate_variance(d_vec, mean);\n",
        "\n",
        "    std::cout << \"Média: \" << mean << std::endl;\n",
        "    std::cout << \"Variância: \" << variance << std::endl;\n",
        "\n",
        "    return 0;\n",
        "}"
      ],
      "metadata": {
        "colab": {
          "base_uri": "https://localhost:8080/"
        },
        "id": "MJEDWXcezmXP",
        "outputId": "e9a1df99-199e-414a-b8c1-50ab0946fab8"
      },
      "execution_count": 14,
      "outputs": [
        {
          "output_type": "stream",
          "name": "stdout",
          "text": [
            "Overwriting variance_fusion_kernel.cu\n"
          ]
        }
      ]
    },
    {
      "cell_type": "code",
      "source": [
        "!nvcc -arch=sm_75 -std=c++14 variance_fusion_kernel.cu -o variance_fusion_kernel"
      ],
      "metadata": {
        "id": "nLkS8sROzmx_"
      },
      "execution_count": 15,
      "outputs": []
    },
    {
      "cell_type": "code",
      "source": [
        "!./variance_fusion_kernel"
      ],
      "metadata": {
        "colab": {
          "base_uri": "https://localhost:8080/"
        },
        "id": "2v0GdIXlzoTL",
        "outputId": "15421f26-9599-4ecd-8ff2-a9f8040c5359"
      },
      "execution_count": 16,
      "outputs": [
        {
          "output_type": "stream",
          "name": "stdout",
          "text": [
            "Média: 50.8125\n",
            "Variância: 805.611\n"
          ]
        }
      ]
    },
    {
      "cell_type": "code",
      "source": [],
      "metadata": {
        "id": "O446qfFQ0AUa"
      },
      "execution_count": null,
      "outputs": []
    }
  ]
}